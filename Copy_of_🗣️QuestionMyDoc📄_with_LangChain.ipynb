{
  "nbformat": 4,
  "nbformat_minor": 0,
  "metadata": {
    "colab": {
      "provenance": [],
      "include_colab_link": true
    },
    "kernelspec": {
      "name": "python3",
      "display_name": "Python 3"
    },
    "language_info": {
      "name": "python"
    }
  },
  "cells": [
    {
      "cell_type": "markdown",
      "metadata": {
        "id": "view-in-github",
        "colab_type": "text"
      },
      "source": [
        "<a href=\"https://colab.research.google.com/github/ganasg/Colab-notebooks/blob/main/Copy_of_%F0%9F%97%A3%EF%B8%8FQuestionMyDoc%F0%9F%93%84_with_LangChain.ipynb\" target=\"_parent\"><img src=\"https://colab.research.google.com/assets/colab-badge.svg\" alt=\"Open In Colab\"/></a>"
      ]
    },
    {
      "cell_type": "markdown",
      "source": [
        "### The Basics of LangChain\n",
        "\n",
        "In this notebook we'll explore exactly what LangChain is doing - and implement a straightforward example that lets us ask questions of a document!\n",
        "\n",
        "First things first, let's get our dependencies all set!"
      ],
      "metadata": {
        "id": "kEKghJQ2pmYH"
      }
    },
    {
      "cell_type": "code",
      "execution_count": null,
      "metadata": {
        "id": "fXsYHTgvnCM2"
      },
      "outputs": [],
      "source": [
        "!pip install openai langchain -q"
      ]
    },
    {
      "cell_type": "markdown",
      "source": [
        "You'll need to have an OpenAI API key for this next part - see [this](https://www.onmsft.com/how-to/how-to-get-an-openai-api-key/) if you haven't already set one up!"
      ],
      "metadata": {
        "id": "T0sLjfy8p3jf"
      }
    },
    {
      "cell_type": "code",
      "source": [
        "import os\n",
        "import getpass\n",
        "\n",
        "openai_api_key = getpass.getpass(\"OpenAI API Key: \")\n",
        "os.environ[\"OPENAI_API_KEY\"] = openai_api_key"
      ],
      "metadata": {
        "id": "0TTosnCHnGHG",
        "colab": {
          "base_uri": "https://localhost:8080/"
        },
        "outputId": "f2329f6d-c440-4f7d-f41f-09a1d63308fe"
      },
      "execution_count": null,
      "outputs": [
        {
          "name": "stdout",
          "output_type": "stream",
          "text": [
            "OpenAI API Key: ··········\n"
          ]
        }
      ]
    },
    {
      "cell_type": "markdown",
      "source": [
        "#### Helper Functions (run this cell)"
      ],
      "metadata": {
        "id": "15M3Jx6SBXcO"
      }
    },
    {
      "cell_type": "code",
      "source": [
        "from IPython.display import display, Markdown\n",
        "\n",
        "def disp_markdown(text: str) -> None:\n",
        "  display(Markdown(text))"
      ],
      "metadata": {
        "id": "k3SBzWBUpQ21"
      },
      "execution_count": null,
      "outputs": []
    },
    {
      "cell_type": "markdown",
      "source": [
        "### Our First LangChain ChatModel"
      ],
      "metadata": {
        "id": "fU4LWrv-BayH"
      }
    },
    {
      "cell_type": "markdown",
      "source": [
        "\n",
        "\n",
        "---\n",
        "\n",
        "\n",
        "<div class=\"warn\">Note: Information on OpenAI's <a href=https://openai.com/pricing>pricing</a> and <a href=https://openai.com/policies/usage-policies>usage policies.</a></div>\n",
        "\n",
        "\n",
        "\n",
        "---\n",
        "\n"
      ],
      "metadata": {
        "id": "p-M-VQhQOC1c"
      }
    },
    {
      "cell_type": "markdown",
      "source": [
        "Now that we're set-up with OpenAI's API - we can begin making our first ChatModel!\n",
        "\n",
        "There's a few important things to consider when we're using LangChain's ChatModel that are outlined [here](https://python.langchain.com/en/latest/modules/models/chat.html)\n",
        "\n",
        "Let's begin by initializing the model with OpenAI's `gpt-3.5-turbo` (ChatGPT) model.\n",
        "\n",
        "We're not going to be leveraging the [streaming](https://python.langchain.com/en/latest/modules/models/chat/examples/streaming.html) capabilities in this Notebook - just the basics to get us started!"
      ],
      "metadata": {
        "id": "XVkfqk4NOFWS"
      }
    },
    {
      "cell_type": "code",
      "source": [
        "from langchain.chat_models import ChatOpenAI\n",
        "from langchain.schema import HumanMessage\n",
        "\n",
        "chat_model = ChatOpenAI(model_name=\"gpt-3.5-turbo\")"
      ],
      "metadata": {
        "id": "tNscLft_nxBb"
      },
      "execution_count": null,
      "outputs": []
    },
    {
      "cell_type": "markdown",
      "source": [
        "If we look at the [Chat completions](https://platform.openai.com/docs/guides/chat) documentation for OpenAI's chat models - we'll see that there are a few specific fields we'll need to concern ourselves with:\n",
        "\n",
        "`role`\n",
        "- This refers to one of three \"roles\" that interact with the model in specific ways.\n",
        "- The `system` role is an optional role that can be used to guide the model toward a specific task. Examples of `system` messages might be:\n",
        "  - You are an expert in Python, please answer questions as though we were in a peer coding session.\n",
        "  - You are the world's leading expert in stamps.\n",
        "\n",
        "  These messages help us \"prime\" the model to be more aligned with our desired task!\n",
        "\n",
        "- The `user` role represents, well, the user!\n",
        "- The `assistant` role lets us act in the place of the model's outputs. We can (and will) leverage this for some few-shot prompt engineering!\n",
        "\n",
        "Each of these roles has a class in LangChain to make it nice and easy for us to use!\n",
        "\n",
        "Let's look at an example."
      ],
      "metadata": {
        "id": "vzGhlpwUPyU9"
      }
    },
    {
      "cell_type": "code",
      "source": [
        "from langchain.schema import (\n",
        "    AIMessage,\n",
        "    HumanMessage,\n",
        "    SystemMessage\n",
        ")\n",
        "\n",
        "# The SystemMessage is associated with the system role\n",
        "system_message = SystemMessage(content=\"You are a food critic.\")\n",
        "\n",
        "# The HumanMessage is associated with the user role\n",
        "user_message = HumanMessage(content=\"Do you think Kraft Dinner constitues fine dining?\")\n",
        "\n",
        "# The AIMessage is associated with the assistant role\n",
        "assistant_message = AIMessage(content=\"Egads! No, it most certainly does not!\")"
      ],
      "metadata": {
        "id": "dM7lciZtoPEp"
      },
      "execution_count": null,
      "outputs": []
    },
    {
      "cell_type": "markdown",
      "source": [
        "Now that we have those messages set-up, let's send them to `gpt-3.5-turbo` with a new user message and see how it does!\n",
        "\n",
        "It's easy enough to do this - the ChatOpenAI model accepts a list of inputs!"
      ],
      "metadata": {
        "id": "dSx5HBgjSUvB"
      }
    },
    {
      "cell_type": "code",
      "source": [
        "second_user_message = HumanMessage(content=\"What about Red Lobster, surely that is fine dining!\")\n",
        "\n",
        "# create the list of prompts\n",
        "list_of_prompts = [\n",
        "    system_message,\n",
        "    user_message,\n",
        "    assistant_message,\n",
        "    second_user_message\n",
        "]\n",
        "\n",
        "# we can just call our chat_model on the list of prompts!\n",
        "chat_model(list_of_prompts)"
      ],
      "metadata": {
        "colab": {
          "base_uri": "https://localhost:8080/"
        },
        "id": "LwDLOYOKSTpG",
        "outputId": "c3fc612a-cc0c-43a3-daed-40dac21d9172"
      },
      "execution_count": null,
      "outputs": [
        {
          "output_type": "execute_result",
          "data": {
            "text/plain": [
              "AIMessage(content=\"Ah, Red Lobster. While it may have its charm and appeal, I must say that it does not quite reach the level of fine dining. It falls more into the category of casual dining or even chain restaurant fare. However, if you have a hankering for seafood in a relaxed setting, Red Lobster can certainly hit the spot. Just don't expect the same level of refinement and culinary excellence you would find at a true fine dining establishment.\", additional_kwargs={}, example=False)"
            ]
          },
          "metadata": {},
          "execution_count": 6
        }
      ]
    },
    {
      "cell_type": "markdown",
      "source": [
        "Great! That's inline with what we expected to see!"
      ],
      "metadata": {
        "id": "pZMYJDWXTkMq"
      }
    },
    {
      "cell_type": "markdown",
      "source": [
        "### PromptTemplates\n",
        "\n",
        "Next stop, we'll discuss a few templates. This allows us to easily interact with our model by not having to redo work we've already completed!"
      ],
      "metadata": {
        "id": "8DUNhabQUB8f"
      }
    },
    {
      "cell_type": "code",
      "source": [
        "from langchain.prompts.chat import (\n",
        "    ChatPromptTemplate,\n",
        "    SystemMessagePromptTemplate,\n",
        "    HumanMessagePromptTemplate\n",
        ")\n",
        "\n",
        "# we can signify variables we want access to by wrapping them in {}\n",
        "system_prompt_template = \"You are an expert in {SUBJECT}, and you're currently feeling {MOOD}\"\n",
        "system_prompt_template = SystemMessagePromptTemplate.from_template(system_prompt_template)\n",
        "\n",
        "user_prompt_template = \"{CONTENT}\"\n",
        "user_prompt_template = HumanMessagePromptTemplate.from_template(user_prompt_template)\n",
        "\n",
        "# put them together into a ChatPromptTemplate\n",
        "chat_prompt = ChatPromptTemplate.from_messages([system_prompt_template, user_prompt_template])"
      ],
      "metadata": {
        "id": "74vpojywT0-4"
      },
      "execution_count": null,
      "outputs": []
    },
    {
      "cell_type": "markdown",
      "source": [
        "Now that we have our `chat_prompt` set-up with the templates - let's see how we can easily format them with our content!\n",
        "\n",
        "NOTE: `disp_markdown` is just a helper function to display the formatted markdown response."
      ],
      "metadata": {
        "id": "a-nbEW-kV_na"
      }
    },
    {
      "cell_type": "code",
      "source": [
        "# note the method `to_messages()`, that's what converts our formatted prompt into\n",
        "formatted_chat_prompt = chat_prompt.format_prompt(SUBJECT=\"cheeses\", MOOD=\"quite tired\", CONTENT=\"Hi, what are the finest cheeses?\").to_messages()\n",
        "\n",
        "disp_markdown(chat_model(formatted_chat_prompt).content)"
      ],
      "metadata": {
        "colab": {
          "base_uri": "https://localhost:8080/",
          "height": 405
        },
        "id": "P4vd-W2FV7Xq",
        "outputId": "126bd4ba-4805-48ea-cb37-091d6c1ae2cb"
      },
      "execution_count": null,
      "outputs": [
        {
          "output_type": "display_data",
          "data": {
            "text/plain": [
              "<IPython.core.display.Markdown object>"
            ],
            "text/markdown": "Hello! As an expert in cheeses, I can assure you that there are numerous exceptional cheeses from around the world. However, since I'm currently feeling quite tired, I apologize for not being able to provide an extensive list. Nonetheless, here are a few renowned cheeses that are widely regarded as some of the finest:\n\n1. Parmigiano Reggiano: A hard, granular cheese with a rich and nutty flavor, originating from Italy.\n\n2. Gruyère: A Swiss cheese with a distinctively nutty and creamy taste, often used in dishes like fondue.\n\n3. Roquefort: A French blue cheese made from sheep's milk, known for its tangy and creamy texture.\n\n4. Brie de Meaux: A soft, creamy French cheese with a bloomy rind, offering a delicate and buttery flavor.\n\n5. Manchego: A Spanish sheep's milk cheese with a firm texture and a slightly salty and nutty taste.\n\n6. Gorgonzola: An Italian blue cheese with a creamy, crumbly texture and a sharp, tangy flavor.\n\n7. Stilton: A traditional English blue cheese, creamy and crumbly, with a rich and complex taste.\n\nRemember, this is just a small selection, and there are countless other extraordinary cheeses waiting to be discovered."
          },
          "metadata": {}
        }
      ]
    },
    {
      "cell_type": "markdown",
      "source": [
        "### Putting the Chain in LangChain\n",
        "\n",
        "In essense, a chain is exactly as it sounds - it helps us chain actions together.\n",
        "\n",
        "Let's take a look at an example."
      ],
      "metadata": {
        "id": "hHehNFjAXbU_"
      }
    },
    {
      "cell_type": "code",
      "source": [
        "from langchain.chains import LLMChain\n",
        "\n",
        "chain = LLMChain(llm=chat_model, prompt=chat_prompt)\n",
        "\n",
        "disp_markdown(chain.run(SUBJECT=\"classic cars\", MOOD=\"angry\", CONTENT=\"Is the 67 Chevrolet Impala a good vehicle?\"))"
      ],
      "metadata": {
        "colab": {
          "base_uri": "https://localhost:8080/",
          "height": 98
        },
        "id": "lTzw4ZMoWX0X",
        "outputId": "ac8249c5-3d05-4c8e-9096-dd79f1811b9e"
      },
      "execution_count": null,
      "outputs": [
        {
          "output_type": "display_data",
          "data": {
            "text/plain": [
              "<IPython.core.display.Markdown object>"
            ],
            "text/markdown": "No, the 67 Chevrolet Impala is not a good vehicle. It is a classic masterpiece that deserves to be treated with respect and admiration. It is a symbol of American automotive excellence and craftsmanship. Calling it just a \"good vehicle\" is an insult to its legacy and heritage. It is infuriating to see such a lack of appreciation for this iconic car."
          },
          "metadata": {}
        }
      ]
    },
    {
      "cell_type": "markdown",
      "source": [
        "### Index Local Files\n",
        "\n",
        "Now that we've got our first chain running, let's talk about indexing and what we can do with it!\n",
        "\n",
        "For the purposes of this tutorial, we'll be using the word \"index\" to refer to a collection of documents organized in a way that is easy for LangChain to access them as a \"Retriever\".\n",
        "\n",
        "Let's check out the Retriever set-up! First, a new dependency!"
      ],
      "metadata": {
        "id": "Md5XYaAj_t51"
      }
    },
    {
      "cell_type": "code",
      "source": [
        "!pip install chromadb tiktoken nltk -q"
      ],
      "metadata": {
        "id": "7mkmPs3GAQMp"
      },
      "execution_count": null,
      "outputs": []
    },
    {
      "cell_type": "code",
      "source": [
        "import nltk\n",
        "nltk.download('punkt')"
      ],
      "metadata": {
        "colab": {
          "base_uri": "https://localhost:8080/"
        },
        "id": "_dNp7hVQGLFn",
        "outputId": "1dcdf36d-1f5e-47a0-dd22-e2a2f632841e"
      },
      "execution_count": null,
      "outputs": [
        {
          "output_type": "stream",
          "name": "stderr",
          "text": [
            "[nltk_data] Downloading package punkt to /root/nltk_data...\n",
            "[nltk_data]   Package punkt is already up-to-date!\n"
          ]
        },
        {
          "output_type": "execute_result",
          "data": {
            "text/plain": [
              "True"
            ]
          },
          "metadata": {},
          "execution_count": 11
        }
      ]
    },
    {
      "cell_type": "markdown",
      "source": [
        "Before we can get started with our chain - we'll have to include some kind of text that we want to include as potential context.\n",
        "\n",
        "Let's use Douglas Adam's [The Hitch Hiker's Guide to the Galaxy](https://erki.lap.ee/failid/raamatud/guide1.txt) as our text file."
      ],
      "metadata": {
        "id": "MFe3eeJTB37W"
      }
    },
    {
      "cell_type": "code",
      "source": [
        "%pwd"
      ],
      "metadata": {
        "colab": {
          "base_uri": "https://localhost:8080/",
          "height": 35
        },
        "id": "vWU68TL2Acpe",
        "outputId": "35815658-dd80-4dbd-eb78-107c04b2bb2e"
      },
      "execution_count": null,
      "outputs": [
        {
          "output_type": "execute_result",
          "data": {
            "text/plain": [
              "'/content'"
            ],
            "application/vnd.google.colaboratory.intrinsic+json": {
              "type": "string"
            }
          },
          "metadata": {},
          "execution_count": 12
        }
      ]
    },
    {
      "cell_type": "code",
      "source": [
        "!wget https://erki.lap.ee/failid/raamatud/guide1.txt"
      ],
      "metadata": {
        "colab": {
          "base_uri": "https://localhost:8080/"
        },
        "id": "jdkQUoQICVwa",
        "outputId": "9dfcd427-7773-4b82-e30c-9e9209bd0ddf"
      },
      "execution_count": null,
      "outputs": [
        {
          "output_type": "stream",
          "name": "stdout",
          "text": [
            "--2023-09-05 01:50:05--  https://erki.lap.ee/failid/raamatud/guide1.txt\n",
            "Resolving erki.lap.ee (erki.lap.ee)... 185.158.177.102\n",
            "Connecting to erki.lap.ee (erki.lap.ee)|185.158.177.102|:443... connected.\n",
            "HTTP request sent, awaiting response... 200 OK\n",
            "Length: 291862 (285K) [text/plain]\n",
            "Saving to: ‘guide1.txt.1’\n",
            "\n",
            "guide1.txt.1        100%[===================>] 285.02K   548KB/s    in 0.5s    \n",
            "\n",
            "2023-09-05 01:50:08 (548 KB/s) - ‘guide1.txt.1’ saved [291862/291862]\n",
            "\n"
          ]
        }
      ]
    },
    {
      "cell_type": "code",
      "source": [
        "from langchain.document_loaders import TextLoader\n",
        "loader = TextLoader('guide1.txt', encoding='utf8')"
      ],
      "metadata": {
        "id": "W7zuITDYCaXo"
      },
      "execution_count": null,
      "outputs": []
    },
    {
      "cell_type": "markdown",
      "source": [
        "Now we can set up our first Index!\n",
        "\n",
        "More detail can be found [here](https://python.langchain.com/en/latest/modules/indexes/getting_started.html) but we'll skip to a more functional implementation!"
      ],
      "metadata": {
        "id": "xha9YA4wA1-b"
      }
    },
    {
      "cell_type": "code",
      "source": [
        "from langchain.indexes import VectorstoreIndexCreator\n",
        "index = VectorstoreIndexCreator().from_loaders([loader])"
      ],
      "metadata": {
        "id": "JuuKSPgTB0Uz"
      },
      "execution_count": null,
      "outputs": []
    },
    {
      "cell_type": "markdown",
      "source": [
        "Now that we have our Index set-up, we can query it straight away!"
      ],
      "metadata": {
        "id": "-nQNNB8NC-XP"
      }
    },
    {
      "cell_type": "code",
      "source": [
        "query = \"What are the importances of towels?\"\n",
        "index.query_with_sources(query)"
      ],
      "metadata": {
        "colab": {
          "base_uri": "https://localhost:8080/"
        },
        "id": "s7vSgpomC9n9",
        "outputId": "3a52155d-8fed-4028-9571-2240f3291244"
      },
      "execution_count": null,
      "outputs": [
        {
          "output_type": "execute_result",
          "data": {
            "text/plain": [
              "{'question': 'What are the importances of towels?',\n",
              " 'answer': ' A towel is a massively useful item for an interstellar hitch hiker, as it can be used for warmth, protection, and signaling for help. It also has immense psychological value, as it can make a strag (non-hitch hiker) assume that the hitch hiker is well-prepared and capable.\\n',\n",
              " 'sources': 'guide1.txt'}"
            ]
          },
          "metadata": {},
          "execution_count": 16
        }
      ]
    },
    {
      "cell_type": "markdown",
      "source": [
        "### Putting it All Together\n",
        "\n",
        "Now that we have a simple idea of how we prompt, what a chain is, and has some local data - let's put it all together!"
      ],
      "metadata": {
        "id": "5F5tv4ULERDo"
      }
    },
    {
      "cell_type": "code",
      "source": [
        "from langchain.embeddings.openai import OpenAIEmbeddings\n",
        "from langchain.text_splitter import NLTKTextSplitter\n",
        "from langchain.vectorstores import Chroma\n",
        "from langchain.docstore.document import Document\n",
        "from langchain.prompts import PromptTemplate\n",
        "from langchain.indexes.vectorstore import VectorstoreIndexCreator\n",
        "\n",
        "with open(\"guide1.txt\") as f:\n",
        "    hitchhikersguide = f.read()\n",
        "\n",
        "text_splitter = NLTKTextSplitter()\n",
        "texts = text_splitter.split_text(hitchhikersguide)\n",
        "\n",
        "embeddings = OpenAIEmbeddings()"
      ],
      "metadata": {
        "id": "uAHJHsksEx5H"
      },
      "execution_count": null,
      "outputs": []
    },
    {
      "cell_type": "code",
      "source": [
        "docsearch = Chroma.from_texts(texts, embeddings, metadatas=[{\"source\": str(i)} for i in range(len(texts))]).as_retriever()"
      ],
      "metadata": {
        "id": "4Z796M-aE_lU"
      },
      "execution_count": null,
      "outputs": []
    },
    {
      "cell_type": "code",
      "source": [
        "from langchain.chains.question_answering import load_qa_chain\n",
        "from langchain.llms import OpenAI\n",
        "\n",
        "chain = load_qa_chain(OpenAI(temperature=0), chain_type=\"refine\")\n",
        "query = \"What is the wind speed velocity of a swallow?\"\n",
        "docs = docsearch.get_relevant_documents(query)\n",
        "chain({\"input_documents\": docs, \"question\": query}, return_only_outputs=True)"
      ],
      "metadata": {
        "colab": {
          "base_uri": "https://localhost:8080/"
        },
        "id": "SsEM-dR1FEvp",
        "outputId": "0016e3ab-4c63-48ba-da42-2a858013c908"
      },
      "execution_count": null,
      "outputs": [
        {
          "output_type": "execute_result",
          "data": {
            "text/plain": [
              "{'output_text': '\\n\\nThe wind speed velocity of a swallow is not mentioned in the context information.'}"
            ]
          },
          "metadata": {},
          "execution_count": 20
        }
      ]
    },
    {
      "cell_type": "markdown",
      "source": [
        "This notebook was authored by [Chris Alexiuk](https://www.linkedin.com/in/csalexiuk/)"
      ],
      "metadata": {
        "id": "ZBhx_8q20dq7"
      }
    }
  ]
}